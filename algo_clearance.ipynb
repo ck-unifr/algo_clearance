{
 "cells": [
  {
   "cell_type": "markdown",
   "metadata": {},
   "source": [
    "# 数学之美\n"
   ]
  },
  {
   "cell_type": "markdown",
   "metadata": {},
   "source": [
    "## 三数之和\n",
    "\n",
    "给定一个包含n个整数的数组nums, 判断nums中是否存在3个元素a,b,c，使 a + b + c = 0。找出所有满足条件且不重复的三元组。\n"
   ]
  },
  {
   "cell_type": "code",
   "execution_count": 5,
   "metadata": {},
   "outputs": [],
   "source": [
    "from typing import List\n",
    "\n",
    "class Solution:\n",
    "    def threeSum(self, nums:List[int]) -> List[List[int]]:\n",
    "        if not nums:\n",
    "            return []\n",
    "        nums.sort()\n",
    "        n = len(nums)\n",
    "        res = []\n",
    "        for i in range(0, n - 2):\n",
    "            if i > 0 and nums[i-1] == nums[i]:\n",
    "                continue\n",
    "            l = i + 1\n",
    "            r = n - 1\n",
    "            while l < r:\n",
    "                if nums[i] + nums[l] + nums[r] == 0:\n",
    "                    res.append([nums[i], nums[l], nums[r]])\n",
    "                    while (l < r and nums[l] == nums[l+1]):\n",
    "                        l += 1\n",
    "                    while (l < r and nums[r] == nums[r-1]):\n",
    "                        r -= 1\n",
    "                elif nums[i] + nums[l] + nums[r] > 0:\n",
    "                    r -= 1\n",
    "                else:\n",
    "                    l += 1\n",
    "                l += 1\n",
    "                r -= 1    \n",
    "        return res\n",
    "        \n",
    "        "
   ]
  },
  {
   "cell_type": "code",
   "execution_count": 6,
   "metadata": {},
   "outputs": [
    {
     "name": "stdout",
     "output_type": "stream",
     "text": [
      "[[-1, -1, 2], [-1, 0, 1]]\n"
     ]
    }
   ],
   "source": [
    "sol = Solution()\n",
    "print(sol.threeSum([-1, 0, 1, 2, -1, -4]))\n"
   ]
  },
  {
   "cell_type": "code",
   "execution_count": null,
   "metadata": {},
   "outputs": [],
   "source": []
  },
  {
   "cell_type": "markdown",
   "metadata": {},
   "source": [
    "## 四数之和\n",
    "\n",
    "给定一个包含n个整数的数组和一个目标值target，判断nums中是否存在a, b, c, d, 使得a + b + c + d = target\n",
    "找出所有满足条件且不重复的四元组。\n",
    "\n",
    "nums = [1, 0, -1, 0, -2, 2]\n",
    "\n",
    "target = 0\n",
    "\n",
    "[[-1,0,0,1],[-2,-1,1,2],[-2,0,0,2]]\n"
   ]
  },
  {
   "cell_type": "code",
   "execution_count": 12,
   "metadata": {},
   "outputs": [],
   "source": [
    "class Solution:\n",
    "    def fourSum(self, nums:List[int], target:int):\n",
    "        nums.sort()\n",
    "        results = []\n",
    "        self.findNsum(nums, target, 4, [], results)\n",
    "        return results\n",
    "    \n",
    "    def findNsum(self, nums:List[int], target:int, N:int, tempList:List[int], results:List[List[int]]):\n",
    "        if len(nums) < N or N < 2:\n",
    "            return\n",
    "        \n",
    "        # two-sum\n",
    "        if N == 2:\n",
    "            l = 0\n",
    "            r = len(nums) - 1\n",
    "            while l < r:\n",
    "                if nums[l] + nums[r] == target:\n",
    "                    results.append(tempList + [nums[l], nums[r]])\n",
    "                    l += 1\n",
    "                    r -= 1\n",
    "                    while l < r and nums[l] == nums[l-1]:\n",
    "                        l += 1\n",
    "                    while l < r and nums[r] == nums[r+1]:\n",
    "                        r -= 1\n",
    "                elif nums[l] + nums[r] < target:\n",
    "                    l += 1\n",
    "                else:\n",
    "                    r -= 1\n",
    "        else:\n",
    "            for i in range(len(nums)):\n",
    "                if i == 0 or i > 0 and nums[i-1] != nums[i]:\n",
    "                    self.findNsum(nums[i+1:], target - nums[i], N - 1, tempList + [nums[i]], results)\n",
    "    "
   ]
  },
  {
   "cell_type": "code",
   "execution_count": 13,
   "metadata": {},
   "outputs": [
    {
     "name": "stdout",
     "output_type": "stream",
     "text": [
      "[[-2, -1, 1, 2], [-2, 0, 0, 2], [-1, 0, 0, 1]]\n"
     ]
    }
   ],
   "source": [
    "sol = Solution()\n",
    "print(sol.fourSum([1, 0, -1, 0, -2, 2], 0))\n"
   ]
  },
  {
   "cell_type": "markdown",
   "metadata": {},
   "source": [
    "时间复杂度：O(n^3)\n",
    "空间复杂度：O(n) 主要消耗tempList，调用栈，排序算法。和tempList相比其他消耗少。\n"
   ]
  },
  {
   "cell_type": "code",
   "execution_count": null,
   "metadata": {},
   "outputs": [],
   "source": []
  },
  {
   "cell_type": "markdown",
   "metadata": {},
   "source": [
    "## 四数相加2\n",
    "\n",
    "给定四个包含整数数组列表A,B,C,D，计算有多少元组(i,j,k,l)能使A[i]+B[j]+C[k]+D[l]=0.\n",
    "\n",
    "输入：A=[1,2], B=[-2,1], C=[-1,2], D=[0,2]\n",
    "\n",
    "输出：2\n",
    "\n",
    "(0,0,0,1) -> A[0]+B[0]+C[0]+D[1]=0\n",
    "\n",
    "(1,1,0,0) -> A[1]+B[1]+C[0]+D[0]=0\n"
   ]
  },
  {
   "cell_type": "code",
   "execution_count": 14,
   "metadata": {},
   "outputs": [],
   "source": [
    "class Solution:\n",
    "    def fourSumCount(self, A:List[int], B:List[int], C:List[int], D:List[int]) -> int:\n",
    "        mapper = {}\n",
    "        res = 0\n",
    "        for i in A:\n",
    "            for j in B:\n",
    "                mapper[i+j] = mapper.get(i+j, 0) + 1\n",
    "        for i in C:\n",
    "            for j in D:\n",
    "                res += mapper.get(-1*(i+j), 0)\n",
    "        return res\n",
    "    "
   ]
  },
  {
   "cell_type": "code",
   "execution_count": 15,
   "metadata": {},
   "outputs": [
    {
     "name": "stdout",
     "output_type": "stream",
     "text": [
      "2\n"
     ]
    }
   ],
   "source": [
    "sol = Solution()\n",
    "print(sol.fourSumCount(A=[1,2], B=[-2,-1], C=[-1,2], D=[0,2]))\n"
   ]
  },
  {
   "cell_type": "code",
   "execution_count": null,
   "metadata": {},
   "outputs": [],
   "source": []
  },
  {
   "cell_type": "code",
   "execution_count": null,
   "metadata": {},
   "outputs": [],
   "source": []
  },
  {
   "cell_type": "code",
   "execution_count": null,
   "metadata": {},
   "outputs": [],
   "source": []
  },
  {
   "cell_type": "code",
   "execution_count": null,
   "metadata": {},
   "outputs": [],
   "source": []
  },
  {
   "cell_type": "code",
   "execution_count": null,
   "metadata": {},
   "outputs": [],
   "source": []
  },
  {
   "cell_type": "code",
   "execution_count": null,
   "metadata": {},
   "outputs": [],
   "source": []
  },
  {
   "cell_type": "code",
   "execution_count": null,
   "metadata": {},
   "outputs": [],
   "source": []
  },
  {
   "cell_type": "code",
   "execution_count": null,
   "metadata": {},
   "outputs": [],
   "source": []
  },
  {
   "cell_type": "code",
   "execution_count": null,
   "metadata": {},
   "outputs": [],
   "source": []
  },
  {
   "cell_type": "code",
   "execution_count": null,
   "metadata": {},
   "outputs": [],
   "source": []
  },
  {
   "cell_type": "code",
   "execution_count": null,
   "metadata": {},
   "outputs": [],
   "source": []
  },
  {
   "cell_type": "code",
   "execution_count": null,
   "metadata": {},
   "outputs": [],
   "source": []
  },
  {
   "cell_type": "code",
   "execution_count": null,
   "metadata": {},
   "outputs": [],
   "source": []
  },
  {
   "cell_type": "code",
   "execution_count": null,
   "metadata": {},
   "outputs": [],
   "source": []
  },
  {
   "cell_type": "code",
   "execution_count": null,
   "metadata": {},
   "outputs": [],
   "source": []
  },
  {
   "cell_type": "code",
   "execution_count": null,
   "metadata": {},
   "outputs": [],
   "source": []
  },
  {
   "cell_type": "code",
   "execution_count": null,
   "metadata": {},
   "outputs": [],
   "source": []
  }
 ],
 "metadata": {
  "kernelspec": {
   "display_name": "Python 3",
   "language": "python",
   "name": "python3"
  },
  "language_info": {
   "codemirror_mode": {
    "name": "ipython",
    "version": 3
   },
   "file_extension": ".py",
   "mimetype": "text/x-python",
   "name": "python",
   "nbconvert_exporter": "python",
   "pygments_lexer": "ipython3",
   "version": "3.8.5"
  },
  "toc": {
   "base_numbering": 1,
   "nav_menu": {},
   "number_sections": true,
   "sideBar": true,
   "skip_h1_title": false,
   "title_cell": "Table of Contents",
   "title_sidebar": "Contents",
   "toc_cell": false,
   "toc_position": {},
   "toc_section_display": true,
   "toc_window_display": true
  }
 },
 "nbformat": 4,
 "nbformat_minor": 4
}
